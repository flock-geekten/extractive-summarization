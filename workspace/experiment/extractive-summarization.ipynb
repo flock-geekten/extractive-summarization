{
 "cells": [
  {
   "cell_type": "markdown",
   "id": "8b80832b-8830-4cc3-9f4f-92d92e9e3ffd",
   "metadata": {},
   "source": [
    "# 抽出型文書要約"
   ]
  },
  {
   "cell_type": "markdown",
   "id": "d7371824-5c79-4a33-a5a5-87249066dce7",
   "metadata": {},
   "source": [
    "## 手続き"
   ]
  },
  {
   "cell_type": "markdown",
   "id": "f7cae0ae-8734-481b-b377-66e45949b7bd",
   "metadata": {},
   "source": [
    "1. 前準備\n",
    "1. クリーニング(文区切り，絵文字/記号などの削除)\n",
    "1. 文章の正規化(全角半角変換，数字の削除)\n",
    "1. 文章の単語分割(形態素解析)\n",
    "1. 単語の正規化(同じ意味を持つ単語の統一)\n",
    "1. ストップワードの除去(名詞/形容詞/副詞/動詞のみの利用，辞書による除去)\n",
    "1. 文書のベクトル表現(TF-IDF)\n",
    "1. 要約モデルの適用(LexRank)\n",
    "1. FlaskでAPIに"
   ]
  },
  {
   "cell_type": "markdown",
   "id": "ce1242f7-b485-4b78-bda2-14b25352d3f9",
   "metadata": {},
   "source": [
    "## 実装"
   ]
  },
  {
   "cell_type": "markdown",
   "id": "eb40e9f2-0fc1-4eba-9294-4ac26ee861a0",
   "metadata": {
    "tags": []
   },
   "source": [
    "### 1. 前準備"
   ]
  },
  {
   "cell_type": "code",
   "execution_count": 282,
   "id": "95ae98d0-7fa6-45f3-bc87-5434b4b82d56",
   "metadata": {},
   "outputs": [],
   "source": [
    "import numpy as np\n",
    "import pandas as pd\n",
    "\n",
    "import neologdn\n",
    "\n",
    "# 文区切り\n",
    "import functools\n",
    "from ja_sentence_segmenter.common.pipeline import make_pipeline\n",
    "from ja_sentence_segmenter.concatenate.simple_concatenator import concatenate_matching\n",
    "from ja_sentence_segmenter.normalize.neologd_normalizer import normalize\n",
    "from ja_sentence_segmenter.split.simple_splitter import split_newline, split_punctuation\n",
    "\n",
    "# クリーニング\n",
    "import re\n",
    "from experiment.modules import data_cleaning as dc\n",
    "\n",
    "# MeCab(形態素解析)\n",
    "import MeCab\n",
    "tagger = MeCab.Tagger('-r /etc/mecabrc -d /usr/lib/x86_64-linux-gnu/mecab/dic/mecab-ipadic-neologd')\n",
    "\n",
    "# 単語の正規化\n",
    "import emoji\n",
    "import mojimoji\n",
    "\n",
    "# ストップワード除去\n",
    "# 名詞/形容詞/副詞/動詞のみを抽出できるライブラリのインポート\n",
    "import mecabpr\n",
    "mpr = mecabpr.MeCabPosRegex('-r /etc/mecabrc -d /usr/lib/x86_64-linux-gnu/mecab/dic/mecab-ipadic-neologd')\n",
    "\n",
    "# 抽出型要約モデル(LexRank)\n",
    "from sumy.parsers.plaintext import PlaintextParser\n",
    "from sumy.nlp.tokenizers import Tokenizer\n",
    "from sumy.summarizers.lex_rank import LexRankSummarizer"
   ]
  },
  {
   "cell_type": "markdown",
   "id": "8ab60f10-1932-4ad6-86d9-b4d76f212f9c",
   "metadata": {},
   "source": [
    "### 2. クリーニング"
   ]
  },
  {
   "cell_type": "code",
   "execution_count": 436,
   "id": "f87505b7-c32c-473f-8e21-36958c38fc6b",
   "metadata": {},
   "outputs": [],
   "source": [
    "split_punc2 = functools.partial(split_punctuation, punctuations=r\"。!?\")\n",
    "concat_tail_te = functools.partial(concatenate_matching, former_matching_rule=r\"^(?P<result>.+)([\\r\\n]+)$\", remove_former_matched=False)\n",
    "segmenter = make_pipeline(normalize, split_newline, concat_tail_te, split_punc2)\n",
    "\n",
    "text_org = \"\"\"\n",
    "島のアジが釣れないまま真夏のシーズンオフへ！\n",
    "アジがオフでもケンサキイカシーズンはこれからです。\n",
    "アジが外れ年で長らく島に行けませんでしたが、ケンサキイカはとりあえず行ってみるしかありません。\n",
    "まさかのケンサキイカも外れ年で釣れないって事は無いだろうな。\n",
    "勿論自然の事だから分かりませんが、誰かが確かめに行かねばなりません。\n",
    "アジが良く釣れた昨年でも、盆過ぎになるとアジは３匹しか釣れませんでした。\n",
    "アジは本気で狙っていなかった事もあるが、ケンサキイカも２３杯と調子が悪かった。\n",
    "今年はアジがダメなのは分かっているので、ケンサキイカだけでも一昨年並みに５０杯以上釣れると良いのだが。\n",
    "んんん〜〜〜楽しみ〜〜〜！\n",
    "\"\"\""
   ]
  },
  {
   "cell_type": "code",
   "execution_count": 437,
   "id": "a8c8836d-7d30-4348-8f57-7a4bce10a9fa",
   "metadata": {},
   "outputs": [],
   "source": [
    "# 『楽しみ〜〜〜』の『〜〜〜』などを削除\n",
    "text = neologdn.normalize(text_org)"
   ]
  },
  {
   "cell_type": "code",
   "execution_count": 438,
   "id": "8d995d98-613b-44bd-be1b-f826231b643c",
   "metadata": {},
   "outputs": [
    {
     "data": {
      "text/html": [
       "<div>\n",
       "<style scoped>\n",
       "    .dataframe tbody tr th:only-of-type {\n",
       "        vertical-align: middle;\n",
       "    }\n",
       "\n",
       "    .dataframe tbody tr th {\n",
       "        vertical-align: top;\n",
       "    }\n",
       "\n",
       "    .dataframe thead th {\n",
       "        text-align: right;\n",
       "    }\n",
       "</style>\n",
       "<table border=\"1\" class=\"dataframe\">\n",
       "  <thead>\n",
       "    <tr style=\"text-align: right;\">\n",
       "      <th></th>\n",
       "      <th>0</th>\n",
       "    </tr>\n",
       "  </thead>\n",
       "  <tbody>\n",
       "    <tr>\n",
       "      <th>0</th>\n",
       "      <td>島のアジが釣れないまま真夏のシーズンオフへ!</td>\n",
       "    </tr>\n",
       "    <tr>\n",
       "      <th>1</th>\n",
       "      <td>アジがオフでもケンサキイカシーズンはこれからです。</td>\n",
       "    </tr>\n",
       "    <tr>\n",
       "      <th>2</th>\n",
       "      <td>アジが外れ年で長らく島に行けませんでしたが、ケンサキイカはとりあえず行ってみるしかありません。</td>\n",
       "    </tr>\n",
       "    <tr>\n",
       "      <th>3</th>\n",
       "      <td>まさかのケンサキイカも外れ年で釣れないって事は無いだろうな。</td>\n",
       "    </tr>\n",
       "    <tr>\n",
       "      <th>4</th>\n",
       "      <td>勿論自然の事だから分かりませんが、誰かが確かめに行かねばなりません。</td>\n",
       "    </tr>\n",
       "    <tr>\n",
       "      <th>5</th>\n",
       "      <td>アジが良く釣れた昨年でも、盆過ぎになるとアジは3匹しか釣れませんでした。</td>\n",
       "    </tr>\n",
       "    <tr>\n",
       "      <th>6</th>\n",
       "      <td>アジは本気で狙っていなかった事もあるが、ケンサキイカも23杯と調子が悪かった。</td>\n",
       "    </tr>\n",
       "    <tr>\n",
       "      <th>7</th>\n",
       "      <td>今年はアジがダメなのは分かっているので、ケンサキイカだけでも一昨年並みに50杯以上釣れると良...</td>\n",
       "    </tr>\n",
       "    <tr>\n",
       "      <th>8</th>\n",
       "      <td>んんん楽しみ!</td>\n",
       "    </tr>\n",
       "  </tbody>\n",
       "</table>\n",
       "</div>"
      ],
      "text/plain": [
       "                                                   0\n",
       "0                             島のアジが釣れないまま真夏のシーズンオフへ!\n",
       "1                          アジがオフでもケンサキイカシーズンはこれからです。\n",
       "2    アジが外れ年で長らく島に行けませんでしたが、ケンサキイカはとりあえず行ってみるしかありません。\n",
       "3                     まさかのケンサキイカも外れ年で釣れないって事は無いだろうな。\n",
       "4                 勿論自然の事だから分かりませんが、誰かが確かめに行かねばなりません。\n",
       "5               アジが良く釣れた昨年でも、盆過ぎになるとアジは3匹しか釣れませんでした。\n",
       "6            アジは本気で狙っていなかった事もあるが、ケンサキイカも23杯と調子が悪かった。\n",
       "7  今年はアジがダメなのは分かっているので、ケンサキイカだけでも一昨年並みに50杯以上釣れると良...\n",
       "8                                            んんん楽しみ!"
      ]
     },
     "execution_count": 438,
     "metadata": {},
     "output_type": "execute_result"
    }
   ],
   "source": [
    "sentences = list(segmenter(text))\n",
    "pd.DataFrame(sentences)"
   ]
  },
  {
   "cell_type": "markdown",
   "id": "f55c1d5c-1506-400c-9911-ceb40f78fe42",
   "metadata": {},
   "source": [
    "### 3. 文章の正規化"
   ]
  },
  {
   "cell_type": "code",
   "execution_count": 439,
   "id": "37b77ff7-fd34-4745-83da-15d80abc9e8c",
   "metadata": {},
   "outputs": [
    {
     "data": {
      "text/html": [
       "<div>\n",
       "<style scoped>\n",
       "    .dataframe tbody tr th:only-of-type {\n",
       "        vertical-align: middle;\n",
       "    }\n",
       "\n",
       "    .dataframe tbody tr th {\n",
       "        vertical-align: top;\n",
       "    }\n",
       "\n",
       "    .dataframe thead th {\n",
       "        text-align: right;\n",
       "    }\n",
       "</style>\n",
       "<table border=\"1\" class=\"dataframe\">\n",
       "  <thead>\n",
       "    <tr style=\"text-align: right;\">\n",
       "      <th></th>\n",
       "      <th>0</th>\n",
       "    </tr>\n",
       "  </thead>\n",
       "  <tbody>\n",
       "    <tr>\n",
       "      <th>0</th>\n",
       "      <td>島のアジが釣れないまま真夏のシーズンオフへ</td>\n",
       "    </tr>\n",
       "    <tr>\n",
       "      <th>1</th>\n",
       "      <td>アジがオフでもケンサキイカシーズンはこれからです。</td>\n",
       "    </tr>\n",
       "    <tr>\n",
       "      <th>2</th>\n",
       "      <td>アジが外れ年で長らく島に行けませんでしたが、ケンサキイカはとりあえず行ってみるしかありません。</td>\n",
       "    </tr>\n",
       "    <tr>\n",
       "      <th>3</th>\n",
       "      <td>まさかのケンサキイカも外れ年で釣れないって事は無いだろうな。</td>\n",
       "    </tr>\n",
       "    <tr>\n",
       "      <th>4</th>\n",
       "      <td>勿論自然の事だから分かりませんが、誰かが確かめに行かねばなりません。</td>\n",
       "    </tr>\n",
       "    <tr>\n",
       "      <th>5</th>\n",
       "      <td>アジが良く釣れた昨年でも、盆過ぎになるとアジは0匹しか釣れませんでした。</td>\n",
       "    </tr>\n",
       "    <tr>\n",
       "      <th>6</th>\n",
       "      <td>アジは本気で狙っていなかった事もあるが、ケンサキイカも0杯と調子が悪かった。</td>\n",
       "    </tr>\n",
       "    <tr>\n",
       "      <th>7</th>\n",
       "      <td>今年はアジがダメなのは分かっているので、ケンサキイカだけでも一昨年並みに0杯以上釣れると良い...</td>\n",
       "    </tr>\n",
       "    <tr>\n",
       "      <th>8</th>\n",
       "      <td>んんん楽しみ</td>\n",
       "    </tr>\n",
       "  </tbody>\n",
       "</table>\n",
       "</div>"
      ],
      "text/plain": [
       "                                                   0\n",
       "0                              島のアジが釣れないまま真夏のシーズンオフへ\n",
       "1                          アジがオフでもケンサキイカシーズンはこれからです。\n",
       "2    アジが外れ年で長らく島に行けませんでしたが、ケンサキイカはとりあえず行ってみるしかありません。\n",
       "3                     まさかのケンサキイカも外れ年で釣れないって事は無いだろうな。\n",
       "4                 勿論自然の事だから分かりませんが、誰かが確かめに行かねばなりません。\n",
       "5               アジが良く釣れた昨年でも、盆過ぎになるとアジは0匹しか釣れませんでした。\n",
       "6             アジは本気で狙っていなかった事もあるが、ケンサキイカも0杯と調子が悪かった。\n",
       "7  今年はアジがダメなのは分かっているので、ケンサキイカだけでも一昨年並みに0杯以上釣れると良い...\n",
       "8                                             んんん楽しみ"
      ]
     },
     "execution_count": 439,
     "metadata": {},
     "output_type": "execute_result"
    }
   ],
   "source": [
    "sentences_dc = dc.data_cleaning(sentences)\n",
    "pd.DataFrame(sentences_dc)"
   ]
  },
  {
   "cell_type": "markdown",
   "id": "63018c76-d35a-44ca-a8dc-ffb6f49ddfe7",
   "metadata": {},
   "source": [
    "### 4.5.6. 文章の単語分割，単語の正規化，ストップワード除去"
   ]
  },
  {
   "cell_type": "code",
   "execution_count": 440,
   "id": "2cb2e9bd-d4c4-4d71-86d9-e5d658f2d5f5",
   "metadata": {},
   "outputs": [],
   "source": [
    "sentence_words = []\n",
    "result = []\n",
    "for i, sentence in enumerate(sentences_dc):\n",
    "    # 名詞|形容詞|副詞|動詞のみの抽出\n",
    "    ma = sum(mpr.findall(sentence, \"(名詞|形容詞|副詞|動詞)\", raw=True), [])\n",
    "    # 活用形の統一(基本形へ)\n",
    "    sentence_ma = []\n",
    "    for word in ma:\n",
    "        if word.split(',')[6] == \"*\":\n",
    "            sentence_ma.append(word.split('\\t')[0])\n",
    "        else:\n",
    "            sentence_ma.append(word.split(',')[6])\n",
    "    result.append(sentence_ma)"
   ]
  },
  {
   "cell_type": "code",
   "execution_count": 441,
   "id": "3abfe2c7-1225-44c9-bdde-b5bf16f165e2",
   "metadata": {},
   "outputs": [
    {
     "data": {
      "text/plain": [
       "[['島', 'アジ', '釣れる', 'まま', '真夏', 'シーズンオフ'],\n",
       " ['アジ', 'オフ', 'ケンサキイカ', 'シーズン', 'これから'],\n",
       " ['アジ', '外れる', '年', '長らく', '島', '行ける', 'ケンサキイカ', 'とりあえず', '行く', 'みる', 'ある'],\n",
       " ['ケンサキイカ', '外れる', '年', '釣れる', '事', '無い'],\n",
       " ['勿論', '自然', '事', '分かる', '誰か', '確かめる', '行く', 'なる'],\n",
       " ['アジ', '良い', '釣れる', '昨年', '盆', '過ぎ', 'なる', 'アジ', '0', '匹', '釣れる'],\n",
       " ['アジ', '本気', '狙う', 'いる', '事', 'ある', 'ケンサキイカ', '0', '杯', '調子', '悪い'],\n",
       " ['今年',\n",
       "  'アジ',\n",
       "  'ダメ',\n",
       "  'の',\n",
       "  '分かる',\n",
       "  'いる',\n",
       "  'ケンサキイカ',\n",
       "  '一昨年',\n",
       "  '並み',\n",
       "  '0',\n",
       "  '杯',\n",
       "  '以上',\n",
       "  '釣れる',\n",
       "  '良い',\n",
       "  'の'],\n",
       " ['ん', '楽しみ']]"
      ]
     },
     "execution_count": 441,
     "metadata": {},
     "output_type": "execute_result"
    }
   ],
   "source": [
    "result"
   ]
  },
  {
   "cell_type": "code",
   "execution_count": 442,
   "id": "9ef82d12-89fd-401c-9138-75b1f7d6fe9c",
   "metadata": {},
   "outputs": [
    {
     "data": {
      "text/plain": [
       "'島 アジ 釣れる まま 真夏 シーズンオフ。アジ オフ ケンサキイカ シーズン これから。アジ 外れる 年 長らく 島 行ける ケンサキイカ とりあえず 行く みる ある。ケンサキイカ 外れる 年 釣れる 事 無い。勿論 自然 事 分かる 誰か 確かめる 行く なる。アジ 良い 釣れる 昨年 盆 過ぎ なる アジ 0 匹 釣れる。アジ 本気 狙う いる 事 ある ケンサキイカ 0 杯 調子 悪い。今年 アジ ダメ の 分かる いる ケンサキイカ 一昨年 並み 0 杯 以上 釣れる 良い の。ん 楽しみ。'"
      ]
     },
     "execution_count": 442,
     "metadata": {},
     "output_type": "execute_result"
    }
   ],
   "source": [
    "corpus = [' '.join(sentence) + u'。' for sentence in result]\n",
    "\"\".join(corpus)"
   ]
  },
  {
   "cell_type": "code",
   "execution_count": 449,
   "id": "9b9ed1a0-60a7-49a7-bb3e-b5264bba330f",
   "metadata": {},
   "outputs": [
    {
     "data": {
      "text/plain": [
       "['島 アジ 釣れる まま 真夏 シーズンオフ。',\n",
       " 'アジ オフ ケンサキイカ シーズン これから。',\n",
       " 'アジ 外れる 年 長らく 島 行ける ケンサキイカ とりあえず 行く みる ある。',\n",
       " 'ケンサキイカ 外れる 年 釣れる 事 無い。',\n",
       " '勿論 自然 事 分かる 誰か 確かめる 行く なる。',\n",
       " 'アジ 良い 釣れる 昨年 盆 過ぎ なる アジ 0 匹 釣れる。',\n",
       " 'アジ 本気 狙う いる 事 ある ケンサキイカ 0 杯 調子 悪い。',\n",
       " '今年 アジ ダメ の 分かる いる ケンサキイカ 一昨年 並み 0 杯 以上 釣れる 良い の。',\n",
       " 'ん 楽しみ。']"
      ]
     },
     "execution_count": 449,
     "metadata": {},
     "output_type": "execute_result"
    }
   ],
   "source": [
    "corpus"
   ]
  },
  {
   "cell_type": "markdown",
   "id": "dd68712f-a8fa-4c19-b1ad-75207ae20fe6",
   "metadata": {},
   "source": [
    "### 7. 8.文書のベクトル表現，要約モデル(Lexrank)の適用"
   ]
  },
  {
   "cell_type": "code",
   "execution_count": 516,
   "id": "1bc4f0ad-50dd-4389-8f1b-be1cb624c4cf",
   "metadata": {},
   "outputs": [],
   "source": [
    "# 文章要約メソッド\n",
    "def summy_test(sentences_org, corpus, sum_count):\n",
    "    sentences = [' '.join(sentence) + u'。' for sentence in corpus]\n",
    "    text_prep = \"\".join(sentences)\n",
    "    parser = PlaintextParser.from_string(text_prep, Tokenizer('japanese'))\n",
    "\n",
    "    summarizer = LexRankSummarizer()\n",
    "    summarizer.stop_words = ['']\n",
    "    # sentences_countにて、sentence（文章の数）を選びます。\n",
    "    # 例えばsentences_countを３にすると文章を3文に要約してくれます。\n",
    "    summary = summarizer(document=parser.document, sentences_count=sum_count)\n",
    "    \n",
    "    print(u'文書要約結果')    \n",
    "    b = []\n",
    "    for sentence in summary:\n",
    "        b.append(sentences_org[sentences.index(\"{}\".format(sentence.__str__()))])\n",
    "        b.append(\"\\n\")\n",
    "    return \"\".join(b)"
   ]
  },
  {
   "cell_type": "code",
   "execution_count": 517,
   "id": "08a1d332-94b5-4743-a7d8-25c93af9d600",
   "metadata": {},
   "outputs": [
    {
     "name": "stdout",
     "output_type": "stream",
     "text": [
      "文書要約結果\n",
      "アジがオフでもケンサキイカシーズンはこれからです。\n",
      "アジが外れ年で長らく島に行けませんでしたが、ケンサキイカはとりあえず行ってみるしかありません。\n",
      "今年はアジがダメなのは分かっているので、ケンサキイカだけでも一昨年並みに50杯以上釣れると良いのだが。\n",
      "\n"
     ]
    }
   ],
   "source": [
    "print(summy_test(sentences, result, sum_count=3))"
   ]
  },
  {
   "cell_type": "code",
   "execution_count": null,
   "id": "7ea77d6e-c643-4f4c-9b14-4bf52e9473ec",
   "metadata": {},
   "outputs": [],
   "source": [
    "for sentence in summary:\n",
    "        print(text[corpus.index(sentence.__str__())])"
   ]
  },
  {
   "cell_type": "code",
   "execution_count": null,
   "id": "315c6bd9-461c-4b12-981e-bfe7ccc66b11",
   "metadata": {},
   "outputs": [],
   "source": []
  }
 ],
 "metadata": {
  "kernelspec": {
   "display_name": "Python 3",
   "language": "python",
   "name": "python3"
  },
  "language_info": {
   "codemirror_mode": {
    "name": "ipython",
    "version": 3
   },
   "file_extension": ".py",
   "mimetype": "text/x-python",
   "name": "python",
   "nbconvert_exporter": "python",
   "pygments_lexer": "ipython3",
   "version": "3.6.9"
  }
 },
 "nbformat": 4,
 "nbformat_minor": 5
}
