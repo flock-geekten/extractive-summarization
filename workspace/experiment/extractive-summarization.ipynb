{
 "cells": [
  {
   "cell_type": "markdown",
   "id": "8b80832b-8830-4cc3-9f4f-92d92e9e3ffd",
   "metadata": {},
   "source": [
    "# 抽出型文書要約"
   ]
  },
  {
   "cell_type": "markdown",
   "id": "d7371824-5c79-4a33-a5a5-87249066dce7",
   "metadata": {},
   "source": [
    "## 手続き"
   ]
  },
  {
   "cell_type": "markdown",
   "id": "f7cae0ae-8734-481b-b377-66e45949b7bd",
   "metadata": {},
   "source": [
    "1. 前準備\n",
    "1. クリーニング(文区切り，絵文字/記号などの削除)\n",
    "1. 文章の正規化(全角半角変換，数字の削除)\n",
    "1. 文章の単語分割(形態素解析)\n",
    "1. 単語の正規化(同じ意味を持つ単語の統一)\n",
    "1. ストップワードの除去(名詞/形容詞/副詞/動詞のみの利用，辞書による除去)\n",
    "1. 文書のベクトル表現(TF-IDF)\n",
    "1. 要約モデルの適用(LexRank)\n",
    "1. FlaskでAPIに"
   ]
  },
  {
   "cell_type": "markdown",
   "id": "ce1242f7-b485-4b78-bda2-14b25352d3f9",
   "metadata": {},
   "source": [
    "## 実装"
   ]
  },
  {
   "cell_type": "markdown",
   "id": "eb40e9f2-0fc1-4eba-9294-4ac26ee861a0",
   "metadata": {
    "tags": []
   },
   "source": [
    "### 1. 前準備"
   ]
  },
  {
   "cell_type": "code",
   "execution_count": 41,
   "id": "95ae98d0-7fa6-45f3-bc87-5434b4b82d56",
   "metadata": {},
   "outputs": [],
   "source": [
    "import numpy as np\n",
    "import pandas as pd\n",
    "\n",
    "import neologdn\n",
    "\n",
    "# 文区切り\n",
    "import functools\n",
    "from ja_sentence_segmenter.common.pipeline import make_pipeline\n",
    "from ja_sentence_segmenter.concatenate.simple_concatenator import concatenate_matching\n",
    "from ja_sentence_segmenter.normalize.neologd_normalizer import normalize\n",
    "from ja_sentence_segmenter.split.simple_splitter import split_newline, split_punctuation\n",
    "\n",
    "# クリーニング\n",
    "import re\n",
    "from modules import data_cleaning as dc\n",
    "\n",
    "# MeCab(形態素解析)\n",
    "import MeCab as mecab\n",
    "mecab = MeCab.Tagger('-r /etc/mecabrc -d /usr/lib/x86_64-linux-gnu/mecab/dic/mecab-ipadic-neologd')\n",
    "\n",
    "# 単語の正規化\n",
    "import emoji\n",
    "import mojimoji\n",
    "\n",
    "# ストップワード除去\n",
    "# 名詞/形容詞/副詞/動詞のみを抽出できるライブラリのインポート\n",
    "import mecabpr\n",
    "mpr = mecabpr.MeCabPosRegex('-r /etc/mecabrc -d /usr/lib/x86_64-linux-gnu/mecab/dic/mecab-ipadic-neologd')\n",
    "\n",
    "# 抽出型要約モデル(LexRank)\n",
    "from sumy.parsers.plaintext import PlaintextParser\n",
    "from sumy.nlp.tokenizers import Tokenizer\n",
    "from sumy.summarizers.lex_rank import LexRankSummarizer"
   ]
  },
  {
   "cell_type": "markdown",
   "id": "8ab60f10-1932-4ad6-86d9-b4d76f212f9c",
   "metadata": {},
   "source": [
    "### 2. クリーニング"
   ]
  },
  {
   "cell_type": "code",
   "execution_count": 58,
   "id": "f87505b7-c32c-473f-8e21-36958c38fc6b",
   "metadata": {},
   "outputs": [],
   "source": [
    "split_punc2 = functools.partial(split_punctuation, punctuations=r\"。!?\")\n",
    "concat_tail_te = functools.partial(concatenate_matching, former_matching_rule=r\"^(?P<result>.+)([\\r\\n]+)$\", remove_former_matched=False)\n",
    "segmenter = make_pipeline(normalize, split_newline, concat_tail_te, split_punc2)\n",
    "\n",
    "text_org = \"\"\"\n",
    "項目gp2gp3耐久性99.9%99.9%IOPS100 IOPS ~ 16,000 IOPS 3,000 IOPS ~ 16,000 IOPSスループット〜 250 MiB/秒 250 MiB/秒 〜 1,000 MiB/秒 ストレージ料金 （月あたり、1GBあたり、東京リージョン）$0.12 $0.096 IOPS料 金（月あたり、1GBあたり、東京リージョン）- 3,000 IOPSまで無料 、 $0.006/IOPS （3,000IOPS超える場合）スループット料金（月あたり、1GBあたり、東京リージョン）- 125 MB/秒まで無料 、 $0.048 MB/s （125 MB/sを超える場合） gp2はボリュームサイズによってIOPSが割り当てられ、ベースラインパフォーマンスで100IOPSが保証されておりました。\n",
    "gp3は 3,000IOPS がベースラインとして保証され、さらにそれ以上のIOPSが求められる場合は追加料金を払うことで最大16,000IOPSまで拡張できます。\n",
    "また、追加料金を支払うことで個別にスループットとIOPSを拡張できますので、アプリケーション要件に合わせて使用することができます。\n",
    "ベースラインパフォーマンスは大幅に上がっているので、これまでのように不要なボリューム追加やプロビジョンドIOPSを使わなくて済むケースが増えると思います。\n",
    "\"\"\""
   ]
  },
  {
   "cell_type": "code",
   "execution_count": 59,
   "id": "a8c8836d-7d30-4348-8f57-7a4bce10a9fa",
   "metadata": {},
   "outputs": [],
   "source": [
    "# 『楽しみ〜〜〜』の『〜〜〜』などを削除\n",
    "text = neologdn.normalize(text_org)"
   ]
  },
  {
   "cell_type": "code",
   "execution_count": 60,
   "id": "8d995d98-613b-44bd-be1b-f826231b643c",
   "metadata": {},
   "outputs": [
    {
     "data": {
      "text/html": [
       "<div>\n",
       "<style scoped>\n",
       "    .dataframe tbody tr th:only-of-type {\n",
       "        vertical-align: middle;\n",
       "    }\n",
       "\n",
       "    .dataframe tbody tr th {\n",
       "        vertical-align: top;\n",
       "    }\n",
       "\n",
       "    .dataframe thead th {\n",
       "        text-align: right;\n",
       "    }\n",
       "</style>\n",
       "<table border=\"1\" class=\"dataframe\">\n",
       "  <thead>\n",
       "    <tr style=\"text-align: right;\">\n",
       "      <th></th>\n",
       "      <th>0</th>\n",
       "    </tr>\n",
       "  </thead>\n",
       "  <tbody>\n",
       "    <tr>\n",
       "      <th>0</th>\n",
       "      <td>項目gp2gp3耐久性99.9%99.9%IOPS100 IOPS 16,000 IOPS ...</td>\n",
       "    </tr>\n",
       "    <tr>\n",
       "      <th>1</th>\n",
       "      <td>gp3は3,000IOPSがベースラインとして保証され、さらにそれ以上のIOPSが求められる...</td>\n",
       "    </tr>\n",
       "    <tr>\n",
       "      <th>2</th>\n",
       "      <td>また、追加料金を支払うことで個別にスループットとIOPSを拡張できますので、アプリケーション...</td>\n",
       "    </tr>\n",
       "    <tr>\n",
       "      <th>3</th>\n",
       "      <td>ベースラインパフォーマンスは大幅に上がっているので、これまでのように不要なボリューム追加やプ...</td>\n",
       "    </tr>\n",
       "  </tbody>\n",
       "</table>\n",
       "</div>"
      ],
      "text/plain": [
       "                                                   0\n",
       "0  項目gp2gp3耐久性99.9%99.9%IOPS100 IOPS 16,000 IOPS ...\n",
       "1  gp3は3,000IOPSがベースラインとして保証され、さらにそれ以上のIOPSが求められる...\n",
       "2  また、追加料金を支払うことで個別にスループットとIOPSを拡張できますので、アプリケーション...\n",
       "3  ベースラインパフォーマンスは大幅に上がっているので、これまでのように不要なボリューム追加やプ..."
      ]
     },
     "execution_count": 60,
     "metadata": {},
     "output_type": "execute_result"
    }
   ],
   "source": [
    "sentences = list(segmenter(text))\n",
    "pd.DataFrame(sentences)"
   ]
  },
  {
   "cell_type": "markdown",
   "id": "f55c1d5c-1506-400c-9911-ceb40f78fe42",
   "metadata": {},
   "source": [
    "### 3. 文章の正規化"
   ]
  },
  {
   "cell_type": "code",
   "execution_count": 61,
   "id": "37b77ff7-fd34-4745-83da-15d80abc9e8c",
   "metadata": {},
   "outputs": [
    {
     "data": {
      "text/html": [
       "<div>\n",
       "<style scoped>\n",
       "    .dataframe tbody tr th:only-of-type {\n",
       "        vertical-align: middle;\n",
       "    }\n",
       "\n",
       "    .dataframe tbody tr th {\n",
       "        vertical-align: top;\n",
       "    }\n",
       "\n",
       "    .dataframe thead th {\n",
       "        text-align: right;\n",
       "    }\n",
       "</style>\n",
       "<table border=\"1\" class=\"dataframe\">\n",
       "  <thead>\n",
       "    <tr style=\"text-align: right;\">\n",
       "      <th></th>\n",
       "      <th>0</th>\n",
       "    </tr>\n",
       "  </thead>\n",
       "  <tbody>\n",
       "    <tr>\n",
       "      <th>0</th>\n",
       "      <td>項目gp0gp0耐久性0iops0iops0iops0iops0iopsスループット0mib...</td>\n",
       "    </tr>\n",
       "    <tr>\n",
       "      <th>1</th>\n",
       "      <td>gp0は0iopsがベースラインとして保証され、さらにそれ以上のiopsが求められる場合は追...</td>\n",
       "    </tr>\n",
       "    <tr>\n",
       "      <th>2</th>\n",
       "      <td>また、追加料金を支払うことで個別にスループットとiopsを拡張できますので、アプリケーション...</td>\n",
       "    </tr>\n",
       "    <tr>\n",
       "      <th>3</th>\n",
       "      <td>ベースラインパフォーマンスは大幅に上がっているので、これまでのように不要なボリューム追加やプ...</td>\n",
       "    </tr>\n",
       "  </tbody>\n",
       "</table>\n",
       "</div>"
      ],
      "text/plain": [
       "                                                   0\n",
       "0  項目gp0gp0耐久性0iops0iops0iops0iops0iopsスループット0mib...\n",
       "1  gp0は0iopsがベースラインとして保証され、さらにそれ以上のiopsが求められる場合は追...\n",
       "2  また、追加料金を支払うことで個別にスループットとiopsを拡張できますので、アプリケーション...\n",
       "3  ベースラインパフォーマンスは大幅に上がっているので、これまでのように不要なボリューム追加やプ..."
      ]
     },
     "execution_count": 61,
     "metadata": {},
     "output_type": "execute_result"
    }
   ],
   "source": [
    "sentences_dc = dc.data_cleaning(sentences)\n",
    "pd.DataFrame(sentences_dc)"
   ]
  },
  {
   "cell_type": "markdown",
   "id": "63018c76-d35a-44ca-a8dc-ffb6f49ddfe7",
   "metadata": {},
   "source": [
    "### 4.5.6. 文章の単語分割，単語の正規化，ストップワード除去"
   ]
  },
  {
   "cell_type": "code",
   "execution_count": 63,
   "id": "2cb2e9bd-d4c4-4d71-86d9-e5d658f2d5f5",
   "metadata": {},
   "outputs": [],
   "source": [
    "sentence_words = []\n",
    "result = []\n",
    "for i, sentence in enumerate(sentences_dc):\n",
    "    # 名詞|形容詞|副詞|動詞のみの抽出\n",
    "    ma = sum(mpr.findall(sentence, \"(名詞|形容詞|副詞|動詞)\", raw=True), [])\n",
    "    # 活用形の統一(基本形へ)\n",
    "    sentence_ma = []\n",
    "    for word in ma:\n",
    "        if word.split(',')[6] == \"*\":\n",
    "            if not bool(re.search(r'[a-zA-Z]',word.split('\\t')[0])):\n",
    "                sentence_ma.append(word.split('\\t')[0])\n",
    "            else :\n",
    "                sentence_ma.append(re.sub(r\"[a-zA-Z]\", \"\", word.split('\\t')[0]))\n",
    "                    \n",
    "        elif bool(re.search(r'[a-zA-Z]',word.split(',')[6])):\n",
    "            if not bool(re.search(r'[a-zA-Z]',word.split(',')[7])):\n",
    "                sentence_ma.append(word.split(',')[7])\n",
    "            else :\n",
    "                sentence_ma.append(re.sub(r\"[a-zA-Z]\", \"\", word.split(',')[7]))\n",
    "        else:\n",
    "            sentence_ma.append(word.split(',')[6])\n",
    "    result.append(sentence_ma)"
   ]
  },
  {
   "cell_type": "code",
   "execution_count": 64,
   "id": "3abfe2c7-1225-44c9-bdde-b5bf16f165e2",
   "metadata": {
    "tags": []
   },
   "outputs": [
    {
     "data": {
      "text/plain": [
       "[['項目',\n",
       "  'ゲーペー',\n",
       "  'ゼログラム',\n",
       "  '',\n",
       "  '0',\n",
       "  '耐久性',\n",
       "  '0',\n",
       "  'アイオーピーエス',\n",
       "  '0',\n",
       "  'アイオーピーエス',\n",
       "  '0',\n",
       "  'アイオーピーエス',\n",
       "  '0',\n",
       "  'アイオーピーエス',\n",
       "  '0',\n",
       "  'アイオーピーエス',\n",
       "  'スループット',\n",
       "  'ゼロメートル',\n",
       "  'イヴ',\n",
       "  '秒',\n",
       "  'ゼロメートル',\n",
       "  'イヴ',\n",
       "  '秒',\n",
       "  'ゼロメートル',\n",
       "  'イヴ',\n",
       "  '秒',\n",
       "  'ストレージ',\n",
       "  '料金',\n",
       "  '月',\n",
       "  'あたり',\n",
       "  'ゼログラム',\n",
       "  '',\n",
       "  'あたり',\n",
       "  '東京',\n",
       "  'リージョン',\n",
       "  '0',\n",
       "  'アイオーピーエス',\n",
       "  '料金',\n",
       "  '月',\n",
       "  'あたり',\n",
       "  'ゼログラム',\n",
       "  '',\n",
       "  'あたり',\n",
       "  '東京',\n",
       "  'リージョン',\n",
       "  '0',\n",
       "  'アイオーピーエス',\n",
       "  '無料',\n",
       "  '0',\n",
       "  'アイオーピーエス',\n",
       "  '0',\n",
       "  'アイオーピーエス',\n",
       "  '超える',\n",
       "  '場合',\n",
       "  'スループット',\n",
       "  '料金',\n",
       "  '月',\n",
       "  'あたり',\n",
       "  'ゼログラム',\n",
       "  '',\n",
       "  'あたり',\n",
       "  '東京',\n",
       "  'リージョン',\n",
       "  'ゼロメートル',\n",
       "  '',\n",
       "  '秒',\n",
       "  '無料',\n",
       "  'ゼロメートル',\n",
       "  'バスストップ',\n",
       "  'ゼロメートル',\n",
       "  'バスストップ',\n",
       "  '超える',\n",
       "  '場合',\n",
       "  'ゲーペー',\n",
       "  '0',\n",
       "  'ボリューム',\n",
       "  'サイズ',\n",
       "  'アイオーピーエス',\n",
       "  '割り当てる',\n",
       "  'られる',\n",
       "  'ベースラインパフォーマンス',\n",
       "  '0',\n",
       "  'アイオーピーエス',\n",
       "  '保証',\n",
       "  'する',\n",
       "  'れる',\n",
       "  'おる'],\n",
       " ['ゲーペー',\n",
       "  '0',\n",
       "  '0',\n",
       "  'アイオーピーエス',\n",
       "  'ベース',\n",
       "  'ライン',\n",
       "  '保証',\n",
       "  'する',\n",
       "  'れる',\n",
       "  'さらに',\n",
       "  'それ',\n",
       "  '以上',\n",
       "  'アイオーピーエス',\n",
       "  '求める',\n",
       "  'られる',\n",
       "  '場合',\n",
       "  '追加',\n",
       "  '料金',\n",
       "  '払う',\n",
       "  'こと',\n",
       "  '最大',\n",
       "  '0',\n",
       "  'アイオーピーエス',\n",
       "  '拡張',\n",
       "  'できる'],\n",
       " ['追加',\n",
       "  '料金',\n",
       "  '支払う',\n",
       "  'こと',\n",
       "  '個別',\n",
       "  'スループット',\n",
       "  'アイオーピーエス',\n",
       "  '拡張',\n",
       "  'できる',\n",
       "  'アプリケーション',\n",
       "  '要件',\n",
       "  '合わせる',\n",
       "  '使用',\n",
       "  'する',\n",
       "  'こと',\n",
       "  'できる'],\n",
       " ['ベースラインパフォーマンス',\n",
       "  '大幅',\n",
       "  '上がる',\n",
       "  'いる',\n",
       "  'これ',\n",
       "  'よう',\n",
       "  '不要',\n",
       "  'ボリューム',\n",
       "  '追加',\n",
       "  'プロビジョンド',\n",
       "  'アイオーピーエス',\n",
       "  '使う',\n",
       "  '済む',\n",
       "  'ケース',\n",
       "  '増える',\n",
       "  '思う']]"
      ]
     },
     "execution_count": 64,
     "metadata": {},
     "output_type": "execute_result"
    }
   ],
   "source": [
    "result"
   ]
  },
  {
   "cell_type": "code",
   "execution_count": 65,
   "id": "9ef82d12-89fd-401c-9138-75b1f7d6fe9c",
   "metadata": {
    "tags": []
   },
   "outputs": [
    {
     "data": {
      "text/plain": [
       "'項目 ゲーペー ゼログラム  0 耐久性 0 アイオーピーエス 0 アイオーピーエス 0 アイオーピーエス 0 アイオーピーエス 0 アイオーピーエス スループット ゼロメートル イヴ 秒 ゼロメートル イヴ 秒 ゼロメートル イヴ 秒 ストレージ 料金 月 あたり ゼログラム  あたり 東京 リージョン 0 アイオーピーエス 料金 月 あたり ゼログラム  あたり 東京 リージョン 0 アイオーピーエス 無料 0 アイオーピーエス 0 アイオーピーエス 超える 場合 スループット 料金 月 あたり ゼログラム  あたり 東京 リージョン ゼロメートル  秒 無料 ゼロメートル バスストップ ゼロメートル バスストップ 超える 場合 ゲーペー 0 ボリューム サイズ アイオーピーエス 割り当てる られる ベースラインパフォーマンス 0 アイオーピーエス 保証 する れる おる。ゲーペー 0 0 アイオーピーエス ベース ライン 保証 する れる さらに それ 以上 アイオーピーエス 求める られる 場合 追加 料金 払う こと 最大 0 アイオーピーエス 拡張 できる。追加 料金 支払う こと 個別 スループット アイオーピーエス 拡張 できる アプリケーション 要件 合わせる 使用 する こと できる。ベースラインパフォーマンス 大幅 上がる いる これ よう 不要 ボリューム 追加 プロビジョンド アイオーピーエス 使う 済む ケース 増える 思う。'"
      ]
     },
     "execution_count": 65,
     "metadata": {},
     "output_type": "execute_result"
    }
   ],
   "source": [
    "corpus = [' '.join(sentence) + u'。' for sentence in result]\n",
    "\"\".join(corpus)"
   ]
  },
  {
   "cell_type": "code",
   "execution_count": 66,
   "id": "9b9ed1a0-60a7-49a7-bb3e-b5264bba330f",
   "metadata": {
    "tags": []
   },
   "outputs": [
    {
     "data": {
      "text/plain": [
       "['項目 ゲーペー ゼログラム  0 耐久性 0 アイオーピーエス 0 アイオーピーエス 0 アイオーピーエス 0 アイオーピーエス 0 アイオーピーエス スループット ゼロメートル イヴ 秒 ゼロメートル イヴ 秒 ゼロメートル イヴ 秒 ストレージ 料金 月 あたり ゼログラム  あたり 東京 リージョン 0 アイオーピーエス 料金 月 あたり ゼログラム  あたり 東京 リージョン 0 アイオーピーエス 無料 0 アイオーピーエス 0 アイオーピーエス 超える 場合 スループット 料金 月 あたり ゼログラム  あたり 東京 リージョン ゼロメートル  秒 無料 ゼロメートル バスストップ ゼロメートル バスストップ 超える 場合 ゲーペー 0 ボリューム サイズ アイオーピーエス 割り当てる られる ベースラインパフォーマンス 0 アイオーピーエス 保証 する れる おる。',\n",
       " 'ゲーペー 0 0 アイオーピーエス ベース ライン 保証 する れる さらに それ 以上 アイオーピーエス 求める られる 場合 追加 料金 払う こと 最大 0 アイオーピーエス 拡張 できる。',\n",
       " '追加 料金 支払う こと 個別 スループット アイオーピーエス 拡張 できる アプリケーション 要件 合わせる 使用 する こと できる。',\n",
       " 'ベースラインパフォーマンス 大幅 上がる いる これ よう 不要 ボリューム 追加 プロビジョンド アイオーピーエス 使う 済む ケース 増える 思う。']"
      ]
     },
     "execution_count": 66,
     "metadata": {},
     "output_type": "execute_result"
    }
   ],
   "source": [
    "corpus"
   ]
  },
  {
   "cell_type": "markdown",
   "id": "dd68712f-a8fa-4c19-b1ad-75207ae20fe6",
   "metadata": {},
   "source": [
    "### 7. 8.文書のベクトル表現，要約モデル(Lexrank)の適用"
   ]
  },
  {
   "cell_type": "code",
   "execution_count": 70,
   "id": "1bc4f0ad-50dd-4389-8f1b-be1cb624c4cf",
   "metadata": {},
   "outputs": [],
   "source": [
    "# 文章要約メソッド\n",
    "def summy_test(sentences_org, corpus, sum_count):\n",
    "    sentences = [' '.join(sentence) + u'。' for sentence in corpus]\n",
    "    text_prep = \"\".join(sentences)\n",
    "    parser = PlaintextParser.from_string(text_prep, Tokenizer('japanese'))\n",
    "\n",
    "    summarizer = LexRankSummarizer()\n",
    "    summarizer.stop_words = ['']\n",
    "    # sentences_countにて、sentence（文章の数）を選びます。\n",
    "    # 例えばsentences_countを３にすると文章を3文に要約してくれます。\n",
    "    summary = summarizer(document=parser.document, sentences_count=sum_count)\n",
    "    \n",
    "    print(u'文書要約結果')    \n",
    "    b = []\n",
    "    for sentence in summary:\n",
    "        b.append(sentences_org[sentences.index(\"{}\".format(sentence.__str__()))])\n",
    "        b.append(\"\\n\")\n",
    "    return \"\".join(b)"
   ]
  },
  {
   "cell_type": "code",
   "execution_count": 71,
   "id": "08a1d332-94b5-4743-a7d8-25c93af9d600",
   "metadata": {},
   "outputs": [
    {
     "name": "stdout",
     "output_type": "stream",
     "text": [
      "(<Sentence: ゲーペー 0 0 アイオーピーエス ベース ライン 保証 する れる さらに それ 以上 アイオーピーエス 求める られる 場合 追加 料金 払う こと 最大 0 アイオーピーエス 拡張 できる。>, <Sentence: ベースラインパフォーマンス 大幅 上がる いる これ よう 不要 ボリューム 追加 プロビジョンド アイオーピーエス 使う 済む ケース 増える 思う。>)\n",
      "文書要約結果\n",
      "gp3は3,000IOPSがベースラインとして保証され、さらにそれ以上のIOPSが求められる場合は追加料金を払うことで最大16,000IOPSまで拡張できます。\n",
      "ベースラインパフォーマンスは大幅に上がっているので、これまでのように不要なボリューム追加やプロビジョンドIOPSを使わなくて済むケースが増えると思います。\n",
      "\n"
     ]
    }
   ],
   "source": [
    "print(summy_test(sentences, result, sum_count=2))"
   ]
  },
  {
   "cell_type": "markdown",
   "id": "98c14079-fb49-4578-9f36-50a966cf9911",
   "metadata": {},
   "source": [
    "### 9. モジュールの動作確認"
   ]
  },
  {
   "cell_type": "code",
   "execution_count": 69,
   "id": "f3409c0f-a7ee-4382-8d4b-128f38ac2ea3",
   "metadata": {},
   "outputs": [
    {
     "name": "stdout",
     "output_type": "stream",
     "text": [
      "The autoreload extension is already loaded. To reload it, use:\n",
      "  %reload_ext autoreload\n"
     ]
    }
   ],
   "source": [
    "%load_ext autoreload\n",
    "%autoreload 2\n",
    "from modules import extractive_summarization as es"
   ]
  },
  {
   "cell_type": "code",
   "execution_count": 55,
   "id": "36ed4b29-939e-45c2-a2f1-5e5b42050985",
   "metadata": {},
   "outputs": [],
   "source": [
    "text = \"\"\"\n",
    "ジョン・ロバーツ連邦最高裁判所長官、カーター大統領、クリントン大統領、ブッシュ大統領、オバマ大統領、アメリカ国民の皆さん、そして、世界中の皆さん、ありがとうございます。\n",
    "\n",
    "私たちアメリカ国民は今、素晴らしい国家的な努力に参加し、国を再建して、すべての人のために約束を果たします。私たちは共に、アメリカの、そして、世界の歩む道を決めるのです。これから歩む長い道です。私たちは課題に直面するでしょう。さまざなま困難にも直面するでしょう。しかし、その仕事をやり遂げます。\n",
    "\n",
    "4年ごとに、私たちはこうした道のりのために集まり、秩序だって速やかに政権を移行します。この政権移行を快く支えてくれたオバマ大統領とミシェル・オバマ大統領夫人に感謝します。素晴らしい人たちです。ありがとうございます。\n",
    "\n",
    "本日の式典には、とても特別な意味があります。なぜなら、ひとつの政権から別の政権へ、または、ひとつの政党から別の政党へ、単なる政権交代をしているわけではなく、ワシントンD.C.から国民である皆さんへ、政権を取り戻しているからです。\n",
    "\n",
    "あまりにも長い間、ワシントンにいる一部の人たちだけが、政府から利益や恩恵を受けてきました。その代償を払ったのは国民です。ワシントンは繁栄しましたが、国民はその富を共有できませんでした。政治家は潤いましたが、職は失われ、工場は閉鎖されました。権力層は自分たちを守りましたが、アメリカ市民を守りませんでした。彼らの勝利は、皆さんの勝利ではありませんでした。彼らは首都ワシントンで祝福しましたが、アメリカ全土で苦しんでいる家族への祝福は、ほとんどありませんでした。\n",
    "\n",
    "すべての変革は、この場所から始まります。今、ここで始まっているのです。なぜなら、この瞬間は皆さんの瞬間だからです。皆さんのものです。今日、ここに集まっている皆さん、アメリカ中でこれを見ている皆さんのものです。今日という日は、皆さんの1日なのです。これは皆さんの式典です。そして、このアメリカ合衆国は、皆さんの国なのです。\n",
    "\n",
    "本当に大切なことは、どの党が政権を握るかということではなく、政府が国民により統治されることです。2017年1月20日は、国民がこの国の治める日として、これからずっと記憶に刻まれるでしょう。この国の忘れ去られた人々は、もう忘れ去られることはありません。誰もが皆さんに耳を傾けています。何千万の人々が、歴史的な運動に参加しています。\n",
    "\n",
    "今まで世界が見たことのない動きが起きています。この動向の中心にあるのは、とても強い信念です。それは、国は国民に奉仕するために存在しているということです。アメリカ国民は、子供たちのために素晴らしい学校を望んでいます。また、家族のために安全を、自分自身のために良い仕事を望んでいます。正しい人々、そして、正しい国民がそう望むのは正当で、当然のことです。\n",
    "\n",
    "しかし、多くの市民には、異なる現実が存在しています。母親と子供は都市部で貧困に苦しみ、工場は錆びき、アメリカ中に墓石のごとく散らばっています。教育は高額で、若く輝かしい生徒たちは、知識を習得できていません。犯罪、ギャング、麻薬があまりにも多くの命を奪い、花開くことのない可能性をこの国から奪っています。\n",
    "\n",
    "こうしたアメリカの殺戮は、今ここで終わります。今、ここでです。\n",
    "\n",
    "私たちはひとつの国家であり、彼らの痛みは、私たちの痛みです。彼らの夢は、私たちの夢です。そして、彼らの成功は、私たちの成功です。私たちは、ひとつの心、ひとつの故郷、ひとつの輝きに満ちた運命を共有しています。今日、私がした就任の誓いは、すべてのアメリカ国民の忠誠の誓いです。\n",
    "\n",
    "何十年もの間、私たちはアメリカの産業を犠牲にし、外国の産業を豊かにしてきました。他の国々の軍隊を援助してきました。一方で、アメリカの軍隊は、悲しくも枯渇しています。私たちは他の国の国境を守っていますが、自分たちの国境を守るのを拒んでいます。海外に数兆ドルを投資しましたが、アメリカのインフラは絶望に陥り、腐っています。他の国々を豊かにしましたが、自国の富、力、自信は、地平線のかなたへ消えて行きました。ひとつずつ、工場が閉鎖され、この国を去りました。数百万人のアメリカ人労働者が置き去りになることなど考えもしないで、そうしたのです。中間層の富が、その家庭から奪われ、世界中に再分配されました。\n",
    "\n",
    "しかし、それは過去です。今、私たちは未来だけを見据えています。私たちは今日、ここに集まり、新しい決意を発し、すべての街、すべての外国の首都、すべての政権にそれを響かせます。今日、この日から始まります。新しいビジョンがアメリカを治めるでしょう。今日、この日から、アメリカ第一のみになります。アメリカ第一です。\n",
    "\n",
    "貿易、税金、移民、外交についてのすべての決定は、アメリカの労働者と家族の利益のために下されます。他国の暴挙から国境を守らなければなりません。彼らは私たちの商品を生産し、私たちの会社を盗み、私たちの仕事を破壊しています。保護こそが偉大な繁栄と力に繋がるのです。\n",
    "\n",
    "私は全力で皆さんのために戦います。決して失望させません。アメリカは再び勝利します。これまでにない勝利です。雇用を取り戻し、国境を回復し、富を取り戻し、そして、夢を取り戻します。このすばらしい国の隅々に新しい道路、橋、空港、トンネル、鉄道を建設します。生活保護を受けている人たちに仕事を与え、アメリカの労働者の手と力で国を再建します。\n",
    "\n",
    "私たちは2つの単純なルールに従います。アメリカ製の商品を買い、アメリカ人を雇うことです。世界の国々と友好的な善意の関係を築きますが、すべての国には自国の利益を優先させる権利があることを理解した上で、そうします。私たちは自分たちの生き方をすべての人に押し付けることはしませんが、模範として輝やかせたいと思っています。私たちはすべての人が追随するような輝きを放つでしょう。私たちは古い同盟関係を強化し、新たなものを形づくります。イスラム過激派のテロに対し世界を結束させ、地球上から完全に根絶させます。\n",
    "\n",
    "私たちの政治の基盤は、アメリカ合衆国への完全な忠誠心です。国への忠誠を通し、私たちはお互いへの忠誠を再発見するでしょう。愛国心に心を開けば、偏見など持たないはずです。聖書はこう教えています。神の民が一体となって暮らすのは、何と素晴らしく喜ばしいことでしょう、と。私たちは隠さずに思っていることを語り、相違について討論しますが、いつも団結を求めなければなりません。アメリカが団結すれば、誰もアメリカを止めることはできません。\n",
    "\n",
    "恐れることはありません。私たちは守られています。そして、私たちはこの先も守られるでしょう。私たちは軍や法執行機関の素晴らしい人たちに守られるています。そして、最も大切なのは、神により守られていることです。\n",
    "\n",
    "最後に、私たちは大きく考え、さらに大きな夢をみなければなりません。アメリカで、私たちは分かっていると思うのですが、国家は、努力してこそ存続するのです。口ばかりで行動が伴わない政治家をこれ以上受け入れることはできません。彼らは文句ばかり言って、何もしていません。意味のないお喋りは終わりを迎える時です。今、行動の時が来ています。それはできない、と言うのはやめましょう。どんな課題も、心を開き、戦い、アメリカの精神を持てば、乗り越えられます。失敗することはありません。私たちの国は再び繁栄し、栄えるでしょう。\n",
    "\n",
    "私たちは、新しい時代の誕生に立ち会っています。宇宙の神秘を解き明かし、地球上から病気の苦しみを失くし、未来の産業とテクノロジーを利用する準備をしています。新しいアメリカの誇りは、私たちの魂を揺さぶり、視野を高め、分断を埋めるでしょう。今こそ、思い出す時です。兵士が永遠に心に刻む知恵です。黒い肌、褐色の肌、白い肌、誰であろうと、同じ愛国心の赤い血が流れています。私たちは同じ輝かしい自由を享受しています。みんな同じ偉大な星条旗に忠誠を誓っているのです。子供がデトロイトの都市部で生まれようと、ネブラスカの風の吹く平原で生まれようと、同じ夜空を見上げ、同じ夢を心に抱き、同じ全知全能の創造主によって生命の息吹が吹き込まれます。\n",
    "\n",
    "ですから、アメリカ国民の皆さん、すべての街に住んでいる市民の皆さん、それが近くても、遠くても、小さくても、大きくても、山から山まで、海から海まで、この言葉を聞いてください。皆さんは再び無視されることは決してありません。皆さんの声、希望、夢が、アメリカの歩む道を決めるのです。そして、皆さんの勇気、善意、愛が、その道を永遠に照らすのです。\n",
    "\n",
    "一致団結して、私たちはアメリカを再び強い国にします。アメリカを再び富める国にします。アメリカを再び誇り高い国にします。アメリカを再び安全な国にします。そうです。ともに力を合わせ、アメリカを再び偉大な国にします。ありがとうございます。皆さんに神の祝福がありますように。そして、アメリカに神の祝福がありますように。ありがとうございます。アメリカに神の祝福あれ。\n",
    "\"\"\""
   ]
  },
  {
   "cell_type": "code",
   "execution_count": 56,
   "id": "0e0e8332-8405-4e22-a7fb-0267000cca1b",
   "metadata": {},
   "outputs": [],
   "source": [
    "summary = es.preprocessed_lexrank(text, sum_count=10)"
   ]
  },
  {
   "cell_type": "code",
   "execution_count": 57,
   "id": "d819d1cf-7389-43d9-ae44-7d3050be9b22",
   "metadata": {},
   "outputs": [
    {
     "name": "stdout",
     "output_type": "stream",
     "text": [
      "私たちアメリカ国民は今、素晴らしい国家的な努力に参加し、国を再建して、すべての人のために約束を果たします。\n",
      "ワシントンは繁栄しましたが、国民はその富を共有できませんでした。\n",
      "皆さんのものです。\n",
      "今日、ここに集まっている皆さん、アメリカ中でこれを見ている皆さんのものです。\n",
      "そして、このアメリカ合衆国は、皆さんの国なのです。\n",
      "それは、国は国民に奉仕するために存在しているということです。\n",
      "私たちは今日、ここに集まり、新しい決意を発し、すべての街、すべての外国の首都、すべての政権にそれを響かせます。\n",
      "彼らは私たちの商品を生産し、私たちの会社を盗み、私たちの仕事を破壊しています。\n",
      "私たちは守られています。\n",
      "皆さんは再び無視されることは決してありません。\n",
      "\n"
     ]
    }
   ],
   "source": [
    "print(summary)"
   ]
  },
  {
   "cell_type": "code",
   "execution_count": null,
   "id": "8ee2d856-cce9-4927-b0e8-0cf4932a5aae",
   "metadata": {},
   "outputs": [],
   "source": []
  }
 ],
 "metadata": {
  "kernelspec": {
   "display_name": "Python 3",
   "language": "python",
   "name": "python3"
  },
  "language_info": {
   "codemirror_mode": {
    "name": "ipython",
    "version": 3
   },
   "file_extension": ".py",
   "mimetype": "text/x-python",
   "name": "python",
   "nbconvert_exporter": "python",
   "pygments_lexer": "ipython3",
   "version": "3.6.9"
  }
 },
 "nbformat": 4,
 "nbformat_minor": 5
}
