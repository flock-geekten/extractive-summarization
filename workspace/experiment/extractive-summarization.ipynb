{
 "cells": [
  {
   "cell_type": "markdown",
   "id": "8b80832b-8830-4cc3-9f4f-92d92e9e3ffd",
   "metadata": {},
   "source": [
    "# 抽出型文書要約"
   ]
  },
  {
   "cell_type": "markdown",
   "id": "d7371824-5c79-4a33-a5a5-87249066dce7",
   "metadata": {},
   "source": [
    "## 手続き"
   ]
  },
  {
   "cell_type": "markdown",
   "id": "f7cae0ae-8734-481b-b377-66e45949b7bd",
   "metadata": {},
   "source": [
    "1. 前準備\n",
    "1. クリーニング(文区切り，絵文字/記号などの削除)\n",
    "1. 文章の正規化(全角半角変換，数字の削除)\n",
    "1. 文章の単語分割(形態素解析)\n",
    "1. 単語の正規化(同じ意味を持つ単語の統一)\n",
    "1. ストップワードの除去(名詞/形容詞/副詞/動詞のみの利用，辞書による除去)\n",
    "1. 文書のベクトル表現(TF-IDF)\n",
    "1. 要約モデルの適用(LexRank)\n",
    "1. FlaskでAPIに"
   ]
  },
  {
   "cell_type": "markdown",
   "id": "ce1242f7-b485-4b78-bda2-14b25352d3f9",
   "metadata": {},
   "source": [
    "## 実装"
   ]
  },
  {
   "cell_type": "markdown",
   "id": "eb40e9f2-0fc1-4eba-9294-4ac26ee861a0",
   "metadata": {
    "tags": []
   },
   "source": [
    "### 1. 前準備"
   ]
  },
  {
   "cell_type": "code",
   "execution_count": 23,
   "id": "8b74d8eb-86c6-4f55-a57d-a60f899759e1",
   "metadata": {},
   "outputs": [
    {
     "name": "stdout",
     "output_type": "stream",
     "text": [
      "Collecting tinysegmenter\n",
      "  Downloading https://files.pythonhosted.org/packages/9c/70/488895cb11e160b548c9ba5847c171b65b86a8ca1e54d206d55b2976bf7b/tinysegmenter-0.4.tar.gz\n",
      "Building wheels for collected packages: tinysegmenter\n",
      "  Running setup.py bdist_wheel for tinysegmenter ... \u001b[?25ldone\n",
      "\u001b[?25h  Stored in directory: /root/.cache/pip/wheels/68/71/2b/6402196bf28012826e507ef7b99df6ebd98cce78bd99023471\n",
      "Successfully built tinysegmenter\n",
      "Installing collected packages: tinysegmenter\n",
      "Successfully installed tinysegmenter-0.4\n"
     ]
    }
   ],
   "source": [
    "!pip3 install tinysegmenter"
   ]
  },
  {
   "cell_type": "code",
   "execution_count": 9,
   "id": "95ae98d0-7fa6-45f3-bc87-5434b4b82d56",
   "metadata": {},
   "outputs": [],
   "source": [
    "import numpy as np\n",
    "import pandas as pd\n",
    "\n",
    "import neologdn\n",
    "\n",
    "# 文区切り\n",
    "import functools\n",
    "from ja_sentence_segmenter.common.pipeline import make_pipeline\n",
    "from ja_sentence_segmenter.concatenate.simple_concatenator import concatenate_matching\n",
    "from ja_sentence_segmenter.normalize.neologd_normalizer import normalize\n",
    "from ja_sentence_segmenter.split.simple_splitter import split_newline, split_punctuation\n",
    "\n",
    "# クリーニング\n",
    "import re\n",
    "from modules import data_cleaning as dc\n",
    "\n",
    "# MeCab(形態素解析)\n",
    "import MeCab as mecab\n",
    "mecab = mecab.Tagger('-r /etc/mecabrc -d /usr/lib/x86_64-linux-gnu/mecab/dic/mecab-ipadic-neologd')\n",
    "\n",
    "# 単語の正規化\n",
    "import emoji\n",
    "import mojimoji\n",
    "\n",
    "# ストップワード除去\n",
    "# 名詞/形容詞/副詞/動詞のみを抽出できるライブラリのインポート\n",
    "import mecabpr\n",
    "mpr = mecabpr.MeCabPosRegex('-r /etc/mecabrc -d /usr/lib/x86_64-linux-gnu/mecab/dic/mecab-ipadic-neologd')\n",
    "\n",
    "# 抽出型要約モデル(LexRank)\n",
    "from sumy.parsers.plaintext import PlaintextParser\n",
    "from sumy.nlp.tokenizers import Tokenizer\n",
    "from sumy.summarizers.lex_rank import LexRankSummarizer"
   ]
  },
  {
   "cell_type": "markdown",
   "id": "8ab60f10-1932-4ad6-86d9-b4d76f212f9c",
   "metadata": {},
   "source": [
    "### 2. クリーニング"
   ]
  },
  {
   "cell_type": "code",
   "execution_count": 44,
   "id": "f87505b7-c32c-473f-8e21-36958c38fc6b",
   "metadata": {},
   "outputs": [],
   "source": [
    "split_punc2 = functools.partial(split_punctuation, punctuations=r\"。!?\")\n",
    "concat_tail_te = functools.partial(concatenate_matching, former_matching_rule=r\"^(?P<result>.+)([\\r\\n]+)$\", remove_former_matched=False)\n",
    "segmenter = make_pipeline(normalize, split_newline, concat_tail_te, split_punc2)\n",
    "\n",
    "text_org = \"\"\"\n",
    "長岡は美味しいラーメン屋がたくさんある。\\nその中でも特に美味しい(と個人的に思う)ラーメン屋を紹介したいと思う。\\nそれは…「おこじょ」である。\\nここは，限定ラーメンを月1ペースで出しており，何度行っても新しい 味が楽しめるラーメン屋である。\\n現在(2021/9)は，うなぎハモラーメンを提供している。\\nこれは，スープが泡立っているため，大変軽い舌触りであり，味もクリーミーに仕上がっている。\\nトッピングのハモは，ナスと一緒に食 べることが推奨されており，ふわふわかつジューシーな味わいが楽しめる。\\nお値段は1,500円と少し高めだが，値段分の価値は十分だと考えている。\\n皆さんも機会があればぜひ食べてもらいたい。\n",
    "\"\"\""
   ]
  },
  {
   "cell_type": "code",
   "execution_count": 45,
   "id": "a8c8836d-7d30-4348-8f57-7a4bce10a9fa",
   "metadata": {},
   "outputs": [],
   "source": [
    "# 『楽しみ〜〜〜』の『〜〜〜』などを削除\n",
    "text = neologdn.normalize(text_org)"
   ]
  },
  {
   "cell_type": "code",
   "execution_count": 46,
   "id": "8d995d98-613b-44bd-be1b-f826231b643c",
   "metadata": {},
   "outputs": [
    {
     "data": {
      "text/html": [
       "<div>\n",
       "<style scoped>\n",
       "    .dataframe tbody tr th:only-of-type {\n",
       "        vertical-align: middle;\n",
       "    }\n",
       "\n",
       "    .dataframe tbody tr th {\n",
       "        vertical-align: top;\n",
       "    }\n",
       "\n",
       "    .dataframe thead th {\n",
       "        text-align: right;\n",
       "    }\n",
       "</style>\n",
       "<table border=\"1\" class=\"dataframe\">\n",
       "  <thead>\n",
       "    <tr style=\"text-align: right;\">\n",
       "      <th></th>\n",
       "      <th>0</th>\n",
       "    </tr>\n",
       "  </thead>\n",
       "  <tbody>\n",
       "    <tr>\n",
       "      <th>0</th>\n",
       "      <td>長岡は美味しいラーメン屋がたくさんある。</td>\n",
       "    </tr>\n",
       "    <tr>\n",
       "      <th>1</th>\n",
       "      <td>その中でも特に美味しい(と個人的に思う)ラーメン屋を紹介したいと思う。</td>\n",
       "    </tr>\n",
       "    <tr>\n",
       "      <th>2</th>\n",
       "      <td>それは…「おこじょ」である。</td>\n",
       "    </tr>\n",
       "    <tr>\n",
       "      <th>3</th>\n",
       "      <td>ここは,限定ラーメンを月1ペースで出しており,何度行っても新しい味が楽しめるラーメン屋である。</td>\n",
       "    </tr>\n",
       "    <tr>\n",
       "      <th>4</th>\n",
       "      <td>現在(2021/9)は,うなぎハモラーメンを提供している。</td>\n",
       "    </tr>\n",
       "    <tr>\n",
       "      <th>5</th>\n",
       "      <td>これは,スープが泡立っているため,大変軽い舌触りであり,味もクリーミーに仕上がっている。</td>\n",
       "    </tr>\n",
       "    <tr>\n",
       "      <th>6</th>\n",
       "      <td>トッピングのハモは,ナスと一緒に食べることが推奨されており,ふわふわかつジューシーな味わいが...</td>\n",
       "    </tr>\n",
       "    <tr>\n",
       "      <th>7</th>\n",
       "      <td>お値段は1,500円と少し高めだが,値段分の価値は十分だと考えている。</td>\n",
       "    </tr>\n",
       "    <tr>\n",
       "      <th>8</th>\n",
       "      <td>皆さんも機会があればぜひ食べてもらいたい。</td>\n",
       "    </tr>\n",
       "  </tbody>\n",
       "</table>\n",
       "</div>"
      ],
      "text/plain": [
       "                                                   0\n",
       "0                               長岡は美味しいラーメン屋がたくさんある。\n",
       "1                その中でも特に美味しい(と個人的に思う)ラーメン屋を紹介したいと思う。\n",
       "2                                     それは…「おこじょ」である。\n",
       "3    ここは,限定ラーメンを月1ペースで出しており,何度行っても新しい味が楽しめるラーメン屋である。\n",
       "4                      現在(2021/9)は,うなぎハモラーメンを提供している。\n",
       "5       これは,スープが泡立っているため,大変軽い舌触りであり,味もクリーミーに仕上がっている。\n",
       "6  トッピングのハモは,ナスと一緒に食べることが推奨されており,ふわふわかつジューシーな味わいが...\n",
       "7                お値段は1,500円と少し高めだが,値段分の価値は十分だと考えている。\n",
       "8                              皆さんも機会があればぜひ食べてもらいたい。"
      ]
     },
     "execution_count": 46,
     "metadata": {},
     "output_type": "execute_result"
    }
   ],
   "source": [
    "sentences = list(segmenter(text))\n",
    "pd.DataFrame(sentences)"
   ]
  },
  {
   "cell_type": "markdown",
   "id": "f55c1d5c-1506-400c-9911-ceb40f78fe42",
   "metadata": {},
   "source": [
    "### 3. 文章の正規化"
   ]
  },
  {
   "cell_type": "code",
   "execution_count": 47,
   "id": "37b77ff7-fd34-4745-83da-15d80abc9e8c",
   "metadata": {},
   "outputs": [
    {
     "data": {
      "text/html": [
       "<div>\n",
       "<style scoped>\n",
       "    .dataframe tbody tr th:only-of-type {\n",
       "        vertical-align: middle;\n",
       "    }\n",
       "\n",
       "    .dataframe tbody tr th {\n",
       "        vertical-align: top;\n",
       "    }\n",
       "\n",
       "    .dataframe thead th {\n",
       "        text-align: right;\n",
       "    }\n",
       "</style>\n",
       "<table border=\"1\" class=\"dataframe\">\n",
       "  <thead>\n",
       "    <tr style=\"text-align: right;\">\n",
       "      <th></th>\n",
       "      <th>0</th>\n",
       "    </tr>\n",
       "  </thead>\n",
       "  <tbody>\n",
       "    <tr>\n",
       "      <th>0</th>\n",
       "      <td>長岡は美味しいラーメン屋がたくさんある。</td>\n",
       "    </tr>\n",
       "    <tr>\n",
       "      <th>1</th>\n",
       "      <td>その中でも特に美味しいと個人的に思うラーメン屋を紹介したいと思う。</td>\n",
       "    </tr>\n",
       "    <tr>\n",
       "      <th>2</th>\n",
       "      <td>それはおこじょである。</td>\n",
       "    </tr>\n",
       "    <tr>\n",
       "      <th>3</th>\n",
       "      <td>ここは限定ラーメンを月0ペースで出しており何度行っても新しい味が楽しめるラーメン屋である。</td>\n",
       "    </tr>\n",
       "    <tr>\n",
       "      <th>4</th>\n",
       "      <td>現在0はうなぎハモラーメンを提供している。</td>\n",
       "    </tr>\n",
       "    <tr>\n",
       "      <th>5</th>\n",
       "      <td>これはスープが泡立っているため大変軽い舌触りであり味もクリーミーに仕上がっている。</td>\n",
       "    </tr>\n",
       "    <tr>\n",
       "      <th>6</th>\n",
       "      <td>トッピングのハモはナスと一緒に食べることが推奨されておりふわふわかつジューシーな味わいが楽しめる。</td>\n",
       "    </tr>\n",
       "    <tr>\n",
       "      <th>7</th>\n",
       "      <td>お値段は0円と少し高めだが値段分の価値は十分だと考えている。</td>\n",
       "    </tr>\n",
       "    <tr>\n",
       "      <th>8</th>\n",
       "      <td>皆さんも機会があればぜひ食べてもらいたい。</td>\n",
       "    </tr>\n",
       "  </tbody>\n",
       "</table>\n",
       "</div>"
      ],
      "text/plain": [
       "                                                   0\n",
       "0                               長岡は美味しいラーメン屋がたくさんある。\n",
       "1                  その中でも特に美味しいと個人的に思うラーメン屋を紹介したいと思う。\n",
       "2                                        それはおこじょである。\n",
       "3      ここは限定ラーメンを月0ペースで出しており何度行っても新しい味が楽しめるラーメン屋である。\n",
       "4                              現在0はうなぎハモラーメンを提供している。\n",
       "5          これはスープが泡立っているため大変軽い舌触りであり味もクリーミーに仕上がっている。\n",
       "6  トッピングのハモはナスと一緒に食べることが推奨されておりふわふわかつジューシーな味わいが楽しめる。\n",
       "7                     お値段は0円と少し高めだが値段分の価値は十分だと考えている。\n",
       "8                              皆さんも機会があればぜひ食べてもらいたい。"
      ]
     },
     "execution_count": 47,
     "metadata": {},
     "output_type": "execute_result"
    }
   ],
   "source": [
    "sentences_dc = dc.data_cleaning(sentences)\n",
    "pd.DataFrame(sentences_dc)"
   ]
  },
  {
   "cell_type": "markdown",
   "id": "63018c76-d35a-44ca-a8dc-ffb6f49ddfe7",
   "metadata": {},
   "source": [
    "### 4.5.6. 文章の単語分割，単語の正規化，ストップワード除去"
   ]
  },
  {
   "cell_type": "code",
   "execution_count": 48,
   "id": "2cb2e9bd-d4c4-4d71-86d9-e5d658f2d5f5",
   "metadata": {},
   "outputs": [],
   "source": [
    "sentence_words = []\n",
    "result = []\n",
    "for i, sentence in enumerate(sentences_dc):\n",
    "    # 名詞|形容詞|副詞|動詞のみの抽出\n",
    "    ma = sum(mpr.findall(sentence, \"(名詞|形容詞|副詞|動詞)\", raw=True), [])\n",
    "    # 活用形の統一(基本形へ)\n",
    "    sentence_ma = []\n",
    "    for word in ma:\n",
    "        if word.split(',')[6] == \"*\":\n",
    "            if not bool(re.search(r'[a-zA-Z]',word.split('\\t')[0])):\n",
    "                sentence_ma.append(word.split('\\t')[0])\n",
    "            else :\n",
    "                sentence_ma.append(re.sub(r\"[a-zA-Z]\", \"\", word.split('\\t')[0]))\n",
    "                    \n",
    "        elif bool(re.search(r'[a-zA-Z]',word.split(',')[6])):\n",
    "            if not bool(re.search(r'[a-zA-Z]',word.split(',')[7])):\n",
    "                sentence_ma.append(word.split(',')[7])\n",
    "            else :\n",
    "                sentence_ma.append(re.sub(r\"[a-zA-Z]\", \"\", word.split(',')[7]))\n",
    "        else:\n",
    "            sentence_ma.append(word.split(',')[6])\n",
    "    result.append(sentence_ma)"
   ]
  },
  {
   "cell_type": "code",
   "execution_count": 49,
   "id": "3abfe2c7-1225-44c9-bdde-b5bf16f165e2",
   "metadata": {
    "tags": []
   },
   "outputs": [
    {
     "data": {
      "text/plain": [
       "[['長岡', '美味しい', 'ラーメン屋', 'たくさん', 'ある'],\n",
       " ['中', '特に', '美味しい', '個人的', '思う', 'ラーメン屋', '紹介', 'する', '思う'],\n",
       " ['それ', 'おこじょ'],\n",
       " ['ここ',\n",
       "  '限定',\n",
       "  'ラーメン',\n",
       "  '月',\n",
       "  '0',\n",
       "  'ペース',\n",
       "  '出す',\n",
       "  'おる',\n",
       "  '何',\n",
       "  '度',\n",
       "  '行う',\n",
       "  '新しい',\n",
       "  '味',\n",
       "  '楽しめる',\n",
       "  'ラーメン屋'],\n",
       " ['現在', '0', 'うなぎ', 'ハモ', 'ラーメン', '提供', 'する', 'いる'],\n",
       " ['これ',\n",
       "  'スープ',\n",
       "  '泡立つ',\n",
       "  'いる',\n",
       "  'ため',\n",
       "  '大変',\n",
       "  '軽い',\n",
       "  '舌触り',\n",
       "  '味',\n",
       "  'クリーミー',\n",
       "  '仕上がる',\n",
       "  'いる'],\n",
       " ['トッピング',\n",
       "  'ハモ',\n",
       "  'ナス',\n",
       "  '一緒',\n",
       "  '食べる',\n",
       "  'こと',\n",
       "  '推奨',\n",
       "  'する',\n",
       "  'れる',\n",
       "  'おる',\n",
       "  'ふわふわ',\n",
       "  'ジューシー',\n",
       "  '味わい',\n",
       "  '楽しめる'],\n",
       " ['値段', '0円', '少し', '高め', '値段', '分', '価値', '十分', '考える', 'いる'],\n",
       " ['皆さん', '機会', 'ある', 'ぜひ', '食べる', 'もらう']]"
      ]
     },
     "execution_count": 49,
     "metadata": {},
     "output_type": "execute_result"
    }
   ],
   "source": [
    "result"
   ]
  },
  {
   "cell_type": "code",
   "execution_count": 50,
   "id": "9ef82d12-89fd-401c-9138-75b1f7d6fe9c",
   "metadata": {
    "tags": []
   },
   "outputs": [
    {
     "data": {
      "text/plain": [
       "'長岡 美味しい ラーメン屋 たくさん ある。中 特に 美味しい 個人的 思う ラーメン屋 紹介 する 思う。それ おこじょ。ここ 限定 ラーメン 月 0 ペース 出す おる 何 度 行う 新しい 味 楽しめる ラーメン屋。現在 0 うなぎ ハモ ラーメン 提供 する いる。これ スープ 泡立つ いる ため 大変 軽い 舌触り 味 クリーミー 仕上がる いる。トッピング ハモ ナス 一緒 食べる こと 推奨 する れる おる ふわふわ ジューシー 味わい 楽しめる。値段 0円 少し 高め 値段 分 価値 十分 考える いる。皆さん 機会 ある ぜひ 食べる もらう。'"
      ]
     },
     "execution_count": 50,
     "metadata": {},
     "output_type": "execute_result"
    }
   ],
   "source": [
    "corpus = [' '.join(sentence) + u'。' for sentence in result]\n",
    "\"\".join(corpus)"
   ]
  },
  {
   "cell_type": "code",
   "execution_count": 51,
   "id": "9b9ed1a0-60a7-49a7-bb3e-b5264bba330f",
   "metadata": {
    "tags": []
   },
   "outputs": [
    {
     "data": {
      "text/plain": [
       "['長岡 美味しい ラーメン屋 たくさん ある。',\n",
       " '中 特に 美味しい 個人的 思う ラーメン屋 紹介 する 思う。',\n",
       " 'それ おこじょ。',\n",
       " 'ここ 限定 ラーメン 月 0 ペース 出す おる 何 度 行う 新しい 味 楽しめる ラーメン屋。',\n",
       " '現在 0 うなぎ ハモ ラーメン 提供 する いる。',\n",
       " 'これ スープ 泡立つ いる ため 大変 軽い 舌触り 味 クリーミー 仕上がる いる。',\n",
       " 'トッピング ハモ ナス 一緒 食べる こと 推奨 する れる おる ふわふわ ジューシー 味わい 楽しめる。',\n",
       " '値段 0円 少し 高め 値段 分 価値 十分 考える いる。',\n",
       " '皆さん 機会 ある ぜひ 食べる もらう。']"
      ]
     },
     "execution_count": 51,
     "metadata": {},
     "output_type": "execute_result"
    }
   ],
   "source": [
    "corpus"
   ]
  },
  {
   "cell_type": "markdown",
   "id": "dd68712f-a8fa-4c19-b1ad-75207ae20fe6",
   "metadata": {},
   "source": [
    "### 7. 8.文書のベクトル表現，要約モデル(Lexrank)の適用"
   ]
  },
  {
   "cell_type": "code",
   "execution_count": 52,
   "id": "1bc4f0ad-50dd-4389-8f1b-be1cb624c4cf",
   "metadata": {},
   "outputs": [],
   "source": [
    "# 文章要約メソッド\n",
    "def summy_test(sentences_org, corpus, sum_count):\n",
    "    sentences = [' '.join(sentence) + u'。' for sentence in corpus]\n",
    "    text_prep = \"\".join(sentences)\n",
    "    parser = PlaintextParser.from_string(text_prep, Tokenizer('japanese'))\n",
    "\n",
    "    summarizer = LexRankSummarizer()\n",
    "    summarizer.stop_words = ['']\n",
    "    # sentences_countにて、sentence（文章の数）を選びます。\n",
    "    # 例えばsentences_countを３にすると文章を3文に要約してくれます。\n",
    "    summary = summarizer(document=parser.document, sentences_count=sum_count)\n",
    "    \n",
    "    print(u'文書要約結果')    \n",
    "    b = []\n",
    "    for sentence in summary:\n",
    "        b.append(sentences_org[sentences.index(\"{}\".format(sentence.__str__()))])\n",
    "        b.append(\"\\n\")\n",
    "    return \"\".join(b)"
   ]
  },
  {
   "cell_type": "code",
   "execution_count": 53,
   "id": "08a1d332-94b5-4743-a7d8-25c93af9d600",
   "metadata": {},
   "outputs": [
    {
     "name": "stdout",
     "output_type": "stream",
     "text": [
      "文書要約結果\n",
      "長岡は美味しいラーメン屋がたくさんある。\n",
      "それは…「おこじょ」である。\n",
      "ここは,限定ラーメンを月1ペースで出しており,何度行っても新しい味が楽しめるラーメン屋である。\n",
      "\n"
     ]
    }
   ],
   "source": [
    "print(summy_test(sentences, result, sum_count=3))"
   ]
  },
  {
   "cell_type": "markdown",
   "id": "98c14079-fb49-4578-9f36-50a966cf9911",
   "metadata": {},
   "source": [
    "### 9. モジュールの動作確認"
   ]
  },
  {
   "cell_type": "code",
   "execution_count": 32,
   "id": "f3409c0f-a7ee-4382-8d4b-128f38ac2ea3",
   "metadata": {},
   "outputs": [
    {
     "name": "stdout",
     "output_type": "stream",
     "text": [
      "The autoreload extension is already loaded. To reload it, use:\n",
      "  %reload_ext autoreload\n"
     ]
    }
   ],
   "source": [
    "%load_ext autoreload\n",
    "%autoreload 2\n",
    "from modules import extractive_summarization as es"
   ]
  },
  {
   "cell_type": "code",
   "execution_count": 33,
   "id": "36ed4b29-939e-45c2-a2f1-5e5b42050985",
   "metadata": {},
   "outputs": [],
   "source": [
    "text = \"\"\"\n",
    "長岡は美味しいラーメン屋がたくさんある．\n",
    "その中でも特に美味しい(と個人的に思う)ラーメン屋を紹介したいと思う．\n",
    "それは…「おこじょ」である．\n",
    "ここは，限定ラーメンを月1ペースで出しており，何度行っても新しい味が楽しめるラーメン屋である．\n",
    "現在(2021/9)は，うなぎハモラーメンを提供している．\n",
    "これは，スープが泡立っているため，大変軽い舌触りであり，味もクリーミーに仕上がっている．\n",
    "トッピングのハモは，ナスと一緒に食べることが推奨されており，ふわふわかつジューシーな味わいが楽しめる．\n",
    "お値段は1,500円と少し高めだが，値段分の価値は十分だと考えている．\n",
    "皆さんも機会があればぜひ食べてもらいたい．\n",
    "\"\"\""
   ]
  },
  {
   "cell_type": "code",
   "execution_count": 36,
   "id": "0e0e8332-8405-4e22-a7fb-0267000cca1b",
   "metadata": {},
   "outputs": [],
   "source": [
    "summary = es.preprocessed_lexrank(text, sum_count=3)"
   ]
  },
  {
   "cell_type": "code",
   "execution_count": 37,
   "id": "d819d1cf-7389-43d9-ae44-7d3050be9b22",
   "metadata": {},
   "outputs": [
    {
     "name": "stdout",
     "output_type": "stream",
     "text": [
      "長岡は美味しいラーメン屋がたくさんある。\n",
      "それは…「おこじょ」である。\n",
      "ここは,限定ラーメンを月1ペースで出しており,何度行っても新しい味が楽しめるラーメン屋である。\n",
      "\n"
     ]
    }
   ],
   "source": [
    "print(summary)"
   ]
  },
  {
   "cell_type": "code",
   "execution_count": null,
   "id": "8ee2d856-cce9-4927-b0e8-0cf4932a5aae",
   "metadata": {},
   "outputs": [],
   "source": []
  }
 ],
 "metadata": {
  "kernelspec": {
   "display_name": "Python 3",
   "language": "python",
   "name": "python3"
  },
  "language_info": {
   "codemirror_mode": {
    "name": "ipython",
    "version": 3
   },
   "file_extension": ".py",
   "mimetype": "text/x-python",
   "name": "python",
   "nbconvert_exporter": "python",
   "pygments_lexer": "ipython3",
   "version": "3.6.9"
  }
 },
 "nbformat": 4,
 "nbformat_minor": 5
}
