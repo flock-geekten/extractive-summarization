{
 "cells": [
  {
   "cell_type": "markdown",
   "id": "8b80832b-8830-4cc3-9f4f-92d92e9e3ffd",
   "metadata": {},
   "source": [
    "# 抽出型文書要約"
   ]
  },
  {
   "cell_type": "markdown",
   "id": "d7371824-5c79-4a33-a5a5-87249066dce7",
   "metadata": {},
   "source": [
    "## 手続き"
   ]
  },
  {
   "cell_type": "markdown",
   "id": "f7cae0ae-8734-481b-b377-66e45949b7bd",
   "metadata": {},
   "source": [
    "1. 前準備\n",
    "1. クリーニング(文区切り，絵文字/記号などの削除)\n",
    "1. 文章の単語分割(形態素解析)\n",
    "1. 単語の正規化(全角半角変換，数字の削除，同じ意味を持つ単語の統一)\n",
    "1. ストップワードの除去(名詞/形容詞/副詞/動詞のみの利用，辞書による除去)\n",
    "1. 文書のベクトル表現(TF-IDF)\n",
    "1. 要約モデルの適用(LexRank)\n",
    "1. FlaskでAPIに"
   ]
  },
  {
   "cell_type": "markdown",
   "id": "ce1242f7-b485-4b78-bda2-14b25352d3f9",
   "metadata": {},
   "source": [
    "## 実装"
   ]
  },
  {
   "cell_type": "markdown",
   "id": "eb40e9f2-0fc1-4eba-9294-4ac26ee861a0",
   "metadata": {
    "tags": []
   },
   "source": [
    "### 1. 前準備"
   ]
  },
  {
   "cell_type": "code",
   "execution_count": 8,
   "id": "95ae98d0-7fa6-45f3-bc87-5434b4b82d56",
   "metadata": {},
   "outputs": [],
   "source": [
    "import numpy as np\n",
    "import pandas as ps\n",
    "\n",
    "# 文区切り\n",
    "import functools\n",
    "from ja_sentence_segmenter.common.pipeline import make_pipeline\n",
    "from ja_sentence_segmenter.concatenate.simple_concatenator import concatenate_matching\n",
    "from ja_sentence_segmenter.normalize.neologd_normalizer import normalize\n",
    "from ja_sentence_segmenter.split.simple_splitter import split_newline, split_punctuation\n",
    "\n",
    "# クリーニング\n",
    "import re\n",
    "\n",
    "# MeCab(形態素解析)\n",
    "import MeCab\n",
    "tagger = MeCab.Tagger('-r /etc/mecabrc -d /usr/lib/x86_64-linux-gnu/mecab/dic/mecab-ipadic-neologd')\n",
    "\n",
    "# 単語の正規化\n",
    "import emoji\n",
    "import mojimoji\n",
    "\n",
    "# ストップワード除去\n",
    "# 名詞/形容詞/副詞/動詞のみを抽出できるライブラリのインポート\n",
    "\n",
    "# 抽出型要約モデル(LexRank)\n",
    "import sumy"
   ]
  },
  {
   "cell_type": "code",
   "execution_count": null,
   "id": "6f300928-825f-4158-a869-958992993d5a",
   "metadata": {},
   "outputs": [],
   "source": []
  }
 ],
 "metadata": {
  "kernelspec": {
   "display_name": "Python 3",
   "language": "python",
   "name": "python3"
  },
  "language_info": {
   "codemirror_mode": {
    "name": "ipython",
    "version": 3
   },
   "file_extension": ".py",
   "mimetype": "text/x-python",
   "name": "python",
   "nbconvert_exporter": "python",
   "pygments_lexer": "ipython3",
   "version": "3.6.9"
  }
 },
 "nbformat": 4,
 "nbformat_minor": 5
}
